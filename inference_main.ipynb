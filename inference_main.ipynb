{
 "cells": [
  {
   "cell_type": "code",
   "execution_count": null,
   "metadata": {},
   "outputs": [],
   "source": [
    "\n",
    "import math\n",
    "from typing import List\n",
    "\n",
    "import tensorflow as tf\n",
    "import numpy as np\n",
    "import pandas as pd\n",
    "import matplotlib.pyplot as plt\n",
    "from scipy.signal import resample_poly\n",
    "\n",
    "from inference import dataset, experiments, raw, fir_filter, iir_filter\n",
    "\n",
    "%matplotlib qt\n"
   ]
  },
  {
   "cell_type": "markdown",
   "metadata": {},
   "source": [
    "## Load raw ECG"
   ]
  },
  {
   "cell_type": "code",
   "execution_count": null,
   "metadata": {
    "scrolled": true
   },
   "outputs": [],
   "source": [
    "\n",
    "signal_path: str = './Delineation_Datasets/AttCHR0102rcs4_Sinius/13-20-54.EDF'\n",
    "ecg, old_fs = raw.load_data(signal_path)\n"
   ]
  },
  {
   "cell_type": "markdown",
   "metadata": {},
   "source": [
    "## Load processed ECG"
   ]
  },
  {
   "cell_type": "code",
   "execution_count": null,
   "metadata": {},
   "outputs": [],
   "source": [
    "\n",
    "ecg_data = pd.read_csv('./Delineation_Datasets/AttCHR0102rcs4_Sinius/13-20-54_data.csv')\n",
    "ecg_signal = ecg_data['signal'].to_numpy() * 1_000\n"
   ]
  },
  {
   "cell_type": "markdown",
   "metadata": {},
   "source": [
    "## Resample signals"
   ]
  },
  {
   "cell_type": "code",
   "execution_count": null,
   "metadata": {},
   "outputs": [],
   "source": [
    "\n",
    "new_fs = 360\n",
    "res_ecg_raw = resample_poly(ecg, new_fs, old_fs)\n",
    "res_ecg_signal = resample_poly(ecg_signal, new_fs, old_fs)\n"
   ]
  },
  {
   "cell_type": "markdown",
   "metadata": {},
   "source": [
    "## Use trained model"
   ]
  },
  {
   "cell_type": "code",
   "execution_count": null,
   "metadata": {},
   "outputs": [],
   "source": [
    "\n",
    "num_examples = res_ecg_raw.shape[0] // 512\n",
    "res_ecg_raw_input = res_ecg_raw[:num_examples*512].reshape(-1, 512, 1)\n"
   ]
  },
  {
   "cell_type": "code",
   "execution_count": null,
   "metadata": {},
   "outputs": [],
   "source": [
    "\n",
    "noise_version = 1\n",
    "experiment = experiments.Experiment.Multibranch_LANLD\n",
    "model = experiments.load_model(experiment, noise_version)\n"
   ]
  },
  {
   "cell_type": "code",
   "execution_count": null,
   "metadata": {},
   "outputs": [],
   "source": [
    "\n",
    "res_ecg_raw_preds = model.predict(res_ecg_raw_input, batch_size=32, verbose=1)\n"
   ]
  },
  {
   "cell_type": "code",
   "execution_count": null,
   "metadata": {},
   "outputs": [],
   "source": [
    "\n",
    "start = 0\n",
    "end = 100_000\n",
    "\n",
    "temp_preds = res_ecg_raw_preds.reshape(-1)\n",
    "\n",
    "plt.figure()\n",
    "plt.title(f'{experiment.value}')\n",
    "plt.axhline(y=0)\n",
    "plt.plot(res_ecg_raw[start:end], label='raw')\n",
    "plt.plot(temp_preds[start:end], label='pred')\n",
    "plt.plot(res_ecg_signal[start:end], label='signal')\n",
    "plt.legend()\n",
    "plt.show()\n"
   ]
  },
  {
   "cell_type": "markdown",
   "metadata": {},
   "source": [
    "## Use FIR"
   ]
  },
  {
   "cell_type": "code",
   "execution_count": null,
   "metadata": {},
   "outputs": [],
   "source": [
    "\n",
    "Fc_l = 0.67\n",
    "Fc_h = 100.0\n",
    "Fs = new_fs\n",
    "res_ecg_fir, N = fir_filter.FIRRemoveBL(res_ecg_raw, Fs, Fc_l, 4.5)\n",
    "res_ecg_fir, N = fir_filter.FIRRemoveHF(res_ecg_fir, Fs, Fc_h, 4.5)\n"
   ]
  },
  {
   "cell_type": "code",
   "execution_count": null,
   "metadata": {
    "scrolled": true
   },
   "outputs": [],
   "source": [
    "\n",
    "plt.figure()\n",
    "plt.title('FIR')\n",
    "plt.plot(res_ecg_raw[start:end], label='raw')\n",
    "plt.plot(res_ecg_fir[start:end], label='fir')\n",
    "plt.plot(res_ecg_signal[start:end], label='signal')\n",
    "plt.axhline(y=0, lw=0.6, ls=\"--\")\n",
    "plt.legend()\n",
    "plt.show()\n"
   ]
  },
  {
   "cell_type": "markdown",
   "metadata": {},
   "source": [
    "## Use IIR"
   ]
  },
  {
   "cell_type": "code",
   "execution_count": null,
   "metadata": {},
   "outputs": [],
   "source": [
    "\n",
    "Fc_l = 0.67\n",
    "Fc_h = 100.0\n",
    "Fs = new_fs\n",
    "res_ecg_iir = iir_filter.IIRRemoveBL(res_ecg_raw, Fs, Fc_l)\n",
    "res_ecg_iir = iir_filter.IIRRemoveHF(res_ecg_iir, Fs, Fc_h)\n"
   ]
  },
  {
   "cell_type": "code",
   "execution_count": null,
   "metadata": {},
   "outputs": [],
   "source": [
    "\n",
    "plt.figure()\n",
    "plt.title('IIR')\n",
    "plt.plot(res_ecg_raw[start:end], label='raw')\n",
    "plt.plot(res_ecg_iir[start:end], label='iir')\n",
    "plt.plot(res_ecg_signal[start:end], label='signal')\n",
    "plt.axhline(y=0, lw=0.6, ls=\"--\")\n",
    "plt.legend()\n",
    "plt.show()\n"
   ]
  },
  {
   "cell_type": "code",
   "execution_count": null,
   "metadata": {},
   "outputs": [],
   "source": []
  }
 ],
 "metadata": {
  "kernelspec": {
   "display_name": "Python 3 (ipykernel)",
   "language": "python",
   "name": "python3"
  },
  "language_info": {
   "codemirror_mode": {
    "name": "ipython",
    "version": 3
   },
   "file_extension": ".py",
   "mimetype": "text/x-python",
   "name": "python",
   "nbconvert_exporter": "python",
   "pygments_lexer": "ipython3",
   "version": "3.10.5"
  },
  "vscode": {
   "interpreter": {
    "hash": "2d228b5f48e8839b85a3edf966476cebcbf2de6ead89862e6334d54a1afcec90"
   }
  }
 },
 "nbformat": 4,
 "nbformat_minor": 2
}
