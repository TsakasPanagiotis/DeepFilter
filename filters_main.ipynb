{
 "cells": [
  {
   "cell_type": "code",
   "execution_count": null,
   "metadata": {},
   "outputs": [],
   "source": [
    "import pandas as pd\n",
    "import matplotlib.pyplot as plt\n",
    "from scipy.signal import wiener, savgol_filter\n",
    "\n",
    "from inference import raw, fir_filter, iir_filter\n",
    "\n",
    "%matplotlib qt"
   ]
  },
  {
   "cell_type": "markdown",
   "metadata": {},
   "source": [
    "## Load raw ECG"
   ]
  },
  {
   "cell_type": "code",
   "execution_count": null,
   "metadata": {
    "scrolled": true
   },
   "outputs": [],
   "source": [
    "signal_path: str = './Delineation_Datasets/AttCHR0102rcs4_Sinius/13-20-54.EDF'\n",
    "ecg_raw, fs_raw = raw.load_data(signal_path)"
   ]
  },
  {
   "cell_type": "markdown",
   "metadata": {},
   "source": [
    "## Load processed ECG"
   ]
  },
  {
   "cell_type": "code",
   "execution_count": null,
   "metadata": {},
   "outputs": [],
   "source": [
    "ecg_data = pd.read_csv('./Delineation_Datasets/AttCHR0102rcs4_Sinius/13-20-54_data.csv')\n",
    "ecg_proc = ecg_data['signal'].to_numpy() * 1_000"
   ]
  },
  {
   "cell_type": "markdown",
   "metadata": {},
   "source": [
    "## Wiener"
   ]
  },
  {
   "cell_type": "code",
   "execution_count": null,
   "metadata": {},
   "outputs": [],
   "source": [
    "ecg_wiener_10 = wiener(ecg_raw, mysize=10)\n",
    "ecg_wiener_5 = wiener(ecg_raw, mysize=5)"
   ]
  },
  {
   "cell_type": "markdown",
   "metadata": {},
   "source": [
    "## Savgol"
   ]
  },
  {
   "cell_type": "code",
   "execution_count": null,
   "metadata": {},
   "outputs": [],
   "source": [
    "savgol_10_3 = savgol_filter(ecg_raw, window_length=10, polyorder=3)\n",
    "savgol_5_3 = savgol_filter(ecg_raw, window_length=5, polyorder=3)"
   ]
  },
  {
   "cell_type": "markdown",
   "metadata": {},
   "source": [
    "## FIR "
   ]
  },
  {
   "cell_type": "code",
   "execution_count": null,
   "metadata": {},
   "outputs": [],
   "source": [
    "cutoff_low = 0.67\n",
    "cutoff_high = 100.0\n",
    "factor = 4.5\n",
    "\n",
    "fir, N = fir_filter.FIRRemoveBL(ecg_raw, fs_raw, cutoff_low, factor)\n",
    "fir, N = fir_filter.FIRRemoveHF(fir, fs_raw, cutoff_high, factor)"
   ]
  },
  {
   "cell_type": "markdown",
   "metadata": {},
   "source": [
    "## IIR"
   ]
  },
  {
   "cell_type": "code",
   "execution_count": null,
   "metadata": {},
   "outputs": [],
   "source": [
    "cutoff_low = 0.67\n",
    "cutoff_high = 100.0\n",
    "\n",
    "iir = iir_filter.IIRRemoveBL(ecg_raw, fs_raw, cutoff_low)\n",
    "iir = iir_filter.IIRRemoveHF(iir, fs_raw, cutoff_high)"
   ]
  },
  {
   "cell_type": "markdown",
   "metadata": {},
   "source": [
    "## Plots"
   ]
  },
  {
   "cell_type": "code",
   "execution_count": null,
   "metadata": {},
   "outputs": [],
   "source": [
    "start = 0\n",
    "end = 10_000\n",
    "\n",
    "fig, ax = plt.subplots()\n",
    "ax.set_title('Click on legend line to toggle line on/off')\n",
    "\n",
    "line1, = ax.plot(ecg_raw[start:end], label='raw')\n",
    "\n",
    "line2, = ax.plot(ecg_proc[start:end], label='ours')\n",
    "\n",
    "line3, = ax.plot(ecg_wiener_10[start:end], label='wiener_10')\n",
    "line4, = ax.plot(ecg_wiener_5[start:end], label='wiener_5')\n",
    "\n",
    "line5, = ax.plot(savgol_10_3[start:end], label='savgol_10_3')\n",
    "line6, = ax.plot(savgol_5_3[start:end], label='savgol_5_3')\n",
    "\n",
    "line7, = ax.plot(fir[start:end], label='fir')\n",
    "\n",
    "line8, = ax.plot(iir[start:end], label='iir')\n",
    "\n",
    "plt.axhline(y=0, lw=0.6, ls=\"--\")\n",
    "leg = ax.legend(fancybox=True, shadow=True)\n",
    "\n",
    "lines = [line1, line2, line3, line4, line5, line6, line7, line8]\n",
    "lined = {}  # Will map legend lines to original lines.\n",
    "for legline, origline in zip(leg.get_lines(), lines):\n",
    "    legline.set_picker(True)  # Enable picking on the legend line.\n",
    "    lined[legline] = origline\n",
    "\n",
    "\n",
    "def on_pick(event):\n",
    "    # On the pick event, find the original line corresponding to the legend\n",
    "    # proxy line, and toggle its visibility.\n",
    "    legline = event.artist\n",
    "    origline = lined[legline]\n",
    "    visible = not origline.get_visible()\n",
    "    origline.set_visible(visible)\n",
    "    # Change the alpha on the line in the legend so we can see what lines\n",
    "    # have been toggled.\n",
    "    legline.set_alpha(1.0 if visible else 0.2)\n",
    "    fig.canvas.draw()\n",
    "\n",
    "fig.canvas.mpl_connect('pick_event', on_pick)\n",
    "plt.show()"
   ]
  },
  {
   "cell_type": "code",
   "execution_count": null,
   "metadata": {},
   "outputs": [],
   "source": []
  }
 ],
 "metadata": {
  "kernelspec": {
   "display_name": "Python 3.10.5 ('.venv': venv)",
   "language": "python",
   "name": "python3"
  },
  "language_info": {
   "codemirror_mode": {
    "name": "ipython",
    "version": 3
   },
   "file_extension": ".py",
   "mimetype": "text/x-python",
   "name": "python",
   "nbconvert_exporter": "python",
   "pygments_lexer": "ipython3",
   "version": "3.10.5"
  },
  "orig_nbformat": 4,
  "vscode": {
   "interpreter": {
    "hash": "2d228b5f48e8839b85a3edf966476cebcbf2de6ead89862e6334d54a1afcec90"
   }
  }
 },
 "nbformat": 4,
 "nbformat_minor": 2
}
